{
  "nbformat": 4,
  "nbformat_minor": 0,
  "metadata": {
    "colab": {
      "provenance": []
    },
    "kernelspec": {
      "name": "python3",
      "display_name": "Python 3"
    },
    "language_info": {
      "name": "python"
    }
  },
  "cells": [
    {
      "cell_type": "markdown",
      "source": [
        "VERSI CEPAT"
      ],
      "metadata": {
        "id": "P4exXqMk6_QM"
      }
    },
    {
      "cell_type": "code",
      "source": [
        "import time\n",
        "\n",
        "def bubble_sort(arr):\n",
        "    n = len(arr)\n",
        "    swapped = True\n",
        "    while swapped:\n",
        "        swapped = False\n",
        "        for i in range(1, n):\n",
        "            if arr[i-1] > arr[i]:\n",
        "                arr[i-1], arr[i] = arr[i], arr[i-1]\n",
        "                swapped = True\n",
        "        n -= 1\n",
        "\n",
        "# Fungsi untuk mengukur waktu eksekusi\n",
        "def measure_time(arr):\n",
        "    start_time = time.time()\n",
        "    bubble_sort(arr)\n",
        "    end_time = time.time()\n",
        "    execution_time = end_time - start_time\n",
        "    return execution_time\n",
        "\n",
        "# Contoh penggunaan\n",
        "array = [64, 34, 25, 12, 22, 11, 90]\n",
        "print(\"Array sebelum diurutkan:\", array)\n",
        "time_taken = measure_time(array)\n",
        "print(\"Array setelah diurutkan:\", array)\n",
        "print(\"Waktu eksekusi: %.6f detik\" % time_taken)\n"
      ],
      "metadata": {
        "colab": {
          "base_uri": "https://localhost:8080/"
        },
        "id": "xwpb-U7I40uv",
        "outputId": "d6e7caed-9a53-45c2-d876-3bde679a0fc9"
      },
      "execution_count": null,
      "outputs": [
        {
          "output_type": "stream",
          "name": "stdout",
          "text": [
            "Array sebelum diurutkan: [64, 34, 25, 12, 22, 11, 90]\n",
            "Array setelah diurutkan: [11, 12, 22, 25, 34, 64, 90]\n",
            "Waktu eksekusi: 0.000013 detik\n"
          ]
        }
      ]
    },
    {
      "cell_type": "markdown",
      "source": [
        "VERSI LAMBAT"
      ],
      "metadata": {
        "id": "5pvVyYSn65cK"
      }
    },
    {
      "cell_type": "code",
      "source": [
        "import time\n",
        "\n",
        "def bubble_sort(arr):\n",
        "    n = len(arr)\n",
        "    for i in range(n):\n",
        "        for j in range(0, n-i-1):\n",
        "            if arr[j] > arr[j+1]:\n",
        "                arr[j], arr[j+1] = arr[j+1], arr[j]\n",
        "\n",
        "# Fungsi untuk mengukur waktu eksekusi\n",
        "def measure_time(arr):\n",
        "    start_time = time.time()\n",
        "    bubble_sort(arr)\n",
        "    end_time = time.time()\n",
        "    execution_time = end_time - start_time\n",
        "    return execution_time\n",
        "\n",
        "# Contoh penggunaan\n",
        "array = [64, 34, 25, 12, 22, 11, 90]\n",
        "print(\"Array sebelum diurutkan:\", array)\n",
        "time_taken = measure_time(array)\n",
        "print(\"Array setelah diurutkan:\", array)\n",
        "print(\"Waktu eksekusi: %.6f detik\" % time_taken)\n"
      ],
      "metadata": {
        "colab": {
          "base_uri": "https://localhost:8080/"
        },
        "id": "KrKMpscn4_Si",
        "outputId": "4cc3df36-16c9-4284-ae81-333e3a66ff88"
      },
      "execution_count": null,
      "outputs": [
        {
          "output_type": "stream",
          "name": "stdout",
          "text": [
            "Array sebelum diurutkan: [64, 34, 25, 12, 22, 11, 90]\n",
            "Array setelah diurutkan: [11, 12, 22, 25, 34, 64, 90]\n",
            "Waktu eksekusi: 0.000014 detik\n"
          ]
        }
      ]
    }
  ]
}